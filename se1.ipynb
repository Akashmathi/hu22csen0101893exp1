{
  "nbformat": 4,
  "nbformat_minor": 0,
  "metadata": {
    "colab": {
      "provenance": [],
      "include_colab_link": true
    },
    "kernelspec": {
      "name": "python3",
      "display_name": "Python 3"
    },
    "language_info": {
      "name": "python"
    }
  },
  "cells": [
    {
      "cell_type": "markdown",
      "metadata": {
        "id": "view-in-github",
        "colab_type": "text"
      },
      "source": [
        "<a href=\"https://colab.research.google.com/github/Akashmathi/hu22csen0101893exp1/blob/main/se1.ipynb\" target=\"_parent\"><img src=\"https://colab.research.google.com/assets/colab-badge.svg\" alt=\"Open In Colab\"/></a>"
      ]
    },
    {
      "cell_type": "code",
      "execution_count": null,
      "metadata": {
        "id": "tbb3Sw1Hj3Nk"
      },
      "outputs": [],
      "source": [
        "def temparature_modelling(a,b,c,time):\n",
        "  temparature=a*time**2+b*time+c\n",
        "  return temparature"
      ]
    },
    {
      "cell_type": "code",
      "source": [
        "#hardcoded variables\n",
        "a,b,c=0.1,2,10\n",
        "time=5"
      ],
      "metadata": {
        "id": "JLFPI9oXl0F5"
      },
      "execution_count": null,
      "outputs": []
    },
    {
      "cell_type": "code",
      "source": [
        "print(\"hardcoded variables are\",temparature_modelling(a,b,c,time))"
      ],
      "metadata": {
        "colab": {
          "base_uri": "https://localhost:8080/"
        },
        "id": "AwCDfxRemvL-",
        "outputId": "297568eb-09bb-4d0b-c855-8a0e70f8f8ef"
      },
      "execution_count": null,
      "outputs": [
        {
          "output_type": "stream",
          "name": "stdout",
          "text": [
            "hardcoded variables are 22.5\n"
          ]
        }
      ]
    },
    {
      "cell_type": "code",
      "source": [
        "a=float(input('enter a coefficient'))\n",
        "b=float(input('enter b coefficient'))\n",
        "c=float(input('enter c coefficient'))\n"
      ],
      "metadata": {
        "colab": {
          "base_uri": "https://localhost:8080/"
        },
        "id": "Xvo10FYnm6Ag",
        "outputId": "f84c5580-a1ca-414e-823b-b50ae0d6413a"
      },
      "execution_count": null,
      "outputs": [
        {
          "name": "stdout",
          "output_type": "stream",
          "text": [
            "enter a coefficient0.1\n",
            "enter b coefficient0.5\n",
            "enter c coefficient0.5\n"
          ]
        }
      ]
    },
    {
      "cell_type": "code",
      "source": [
        "time=float(input(\"enter any time\"))\n"
      ],
      "metadata": {
        "colab": {
          "base_uri": "https://localhost:8080/"
        },
        "id": "7OPD54nQnV3D",
        "outputId": "2fe7b93d-bfeb-4324-a37c-e0874b168884"
      },
      "execution_count": null,
      "outputs": [
        {
          "name": "stdout",
          "output_type": "stream",
          "text": [
            "enter any time10\n"
          ]
        }
      ]
    },
    {
      "cell_type": "code",
      "source": [
        "print(\"hardcoded variables are\",temparature_modelling(a,b,c,time))"
      ],
      "metadata": {
        "colab": {
          "base_uri": "https://localhost:8080/"
        },
        "id": "6NzWEB-9nMQc",
        "outputId": "64101898-56ba-45ee-86aa-58085246c78d"
      },
      "execution_count": null,
      "outputs": [
        {
          "output_type": "stream",
          "name": "stdout",
          "text": [
            "hardcoded variables are 15.5\n"
          ]
        }
      ]
    },
    {
      "cell_type": "code",
      "source": [
        "\n",
        "def read_from_file(input):\n",
        "\n",
        "  with open('input.txt', 'r') as file:\n",
        "   lines=file.readlines()\n",
        "  coefficients = [tuple (map (float, line.strip().split(','))) for line in lines]\n",
        "  return coefficients\n"
      ],
      "metadata": {
        "id": "ewxRbcQHnrKN"
      },
      "execution_count": null,
      "outputs": []
    },
    {
      "cell_type": "code",
      "source": [
        "coefficients=read_from_file('/content/input.txt')\n",
        "a,b,c,time=coefficients[0]\n",
        "\n",
        "print(\"Temperature form keyboard coefficients at time\", time, \"hours:\", temparature_modelling(a,b,c,time))"
      ],
      "metadata": {
        "colab": {
          "base_uri": "https://localhost:8080/"
        },
        "id": "MRuoPiKYtfE-",
        "outputId": "5d3c5a48-f6e1-4e97-89c3-d1771e9968db"
      },
      "execution_count": null,
      "outputs": [
        {
          "output_type": "stream",
          "name": "stdout",
          "text": [
            "Temperature form keyboard coefficients at time 4.0 hours: 27.0\n"
          ]
        }
      ]
    },
    {
      "cell_type": "code",
      "source": [
        "for idx, (a, b, c,time) in enumerate (coefficients):\n",
        "\n",
        "  print(\"Temperature form keyboard coefficients at time\", time, \"hours:\",temparature_modelling(a,b,c,time))"
      ],
      "metadata": {
        "colab": {
          "base_uri": "https://localhost:8080/"
        },
        "id": "67EWsqFq2meo",
        "outputId": "9b268bdb-f597-4c3f-ab0b-ff51a9a14afc"
      },
      "execution_count": null,
      "outputs": [
        {
          "output_type": "stream",
          "name": "stdout",
          "text": [
            "Temperature form keyboard coefficients at time 4.0 hours: 27.0\n",
            "Temperature form keyboard coefficients at time 8.0 hours: 375.0\n",
            "Temperature form keyboard coefficients at time 12.0 hours: 1427.0\n"
          ]
        }
      ]
    }
  ]
}